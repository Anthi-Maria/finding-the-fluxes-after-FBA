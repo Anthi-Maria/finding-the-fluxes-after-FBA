{
 "cells": [
  {
   "cell_type": "code",
   "execution_count": 1,
   "id": "understood-christopher",
   "metadata": {},
   "outputs": [
    {
     "name": "stdout",
     "output_type": "stream",
     "text": [
      "Academic license - for non-commercial use only - expires 2023-02-21\n",
      "Using license file /home/schwartzlab/gurobi.lic\n",
      "<Solution 0.982 at 0x7f487fb7f070>\n",
      "EX_cm_e          0.000000\n",
      "EX_cmp_e         0.000000\n",
      "EX_co2_e        19.675311\n",
      "EX_cobalt2_e    -0.000025\n",
      "EX_colipa_e      0.000000\n",
      "                  ...    \n",
      "SUCP             0.000000\n",
      "TARTDC           0.000000\n",
      "LTARTDH          0.000000\n",
      "UAG4Ei           0.000000\n",
      "UGCIAMH          0.000000\n",
      "Name: fluxes, Length: 2726, dtype: float64\n"
     ]
    }
   ],
   "source": [
    "import numpy as np\n",
    "import pandas as pd\n",
    "import cobra.test\n",
    "import os\n",
    "from os.path import join\n",
    "\n",
    "from time import time\n",
    "\n",
    "a= cobra.io.read_sbml_model(\"iEC1344_C.xml\")\n",
    "\n",
    "solution = a.optimize()\n",
    "print(solution)\n",
    "print(solution.fluxes)\n"
   ]
  },
  {
   "cell_type": "code",
   "execution_count": 2,
   "id": "wireless-distance",
   "metadata": {},
   "outputs": [],
   "source": [
    "fluxes_after_FBA = solution.fluxes.to_csv('fluxes_after_FBA.csv', index = True)"
   ]
  },
  {
   "cell_type": "code",
   "execution_count": 9,
   "id": "through-remark",
   "metadata": {},
   "outputs": [
    {
     "data": {
      "text/html": [
       "\n",
       "        <table>\n",
       "            <tr>\n",
       "                <td><strong>Reaction identifier</strong></td><td>EX_nh4_e</td>\n",
       "            </tr><tr>\n",
       "                <td><strong>Name</strong></td><td>Ammonia exchange</td>\n",
       "            </tr><tr>\n",
       "                <td><strong>Memory address</strong></td>\n",
       "                <td>0x07f487fac5880</td>\n",
       "            </tr><tr>\n",
       "                <td><strong>Stoichiometry</strong></td>\n",
       "                <td>\n",
       "                    <p style='text-align:right'>nh4_e <=></p>\n",
       "                    <p style='text-align:right'>Ammonium <=></p>\n",
       "                </td>\n",
       "            </tr><tr>\n",
       "                <td><strong>GPR</strong></td><td></td>\n",
       "            </tr><tr>\n",
       "                <td><strong>Lower bound</strong></td><td>-1000.0</td>\n",
       "            </tr><tr>\n",
       "                <td><strong>Upper bound</strong></td><td>1000.0</td>\n",
       "            </tr>\n",
       "        </table>\n",
       "        "
      ],
      "text/plain": [
       "<Reaction EX_nh4_e at 0x7f487fac5880>"
      ]
     },
     "execution_count": 9,
     "metadata": {},
     "output_type": "execute_result"
    }
   ],
   "source": [
    "a.reactions.get_by_id(\"EX_nh4_e\")"
   ]
  },
  {
   "cell_type": "code",
   "execution_count": null,
   "id": "arctic-conservation",
   "metadata": {},
   "outputs": [],
   "source": []
  }
 ],
 "metadata": {
  "kernelspec": {
   "display_name": "Python 3",
   "language": "python",
   "name": "python3"
  },
  "language_info": {
   "codemirror_mode": {
    "name": "ipython",
    "version": 3
   },
   "file_extension": ".py",
   "mimetype": "text/x-python",
   "name": "python",
   "nbconvert_exporter": "python",
   "pygments_lexer": "ipython3",
   "version": "3.8.3"
  }
 },
 "nbformat": 4,
 "nbformat_minor": 5
}
